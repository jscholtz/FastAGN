{
 "cells": [
  {
   "cell_type": "code",
   "execution_count": 15,
   "metadata": {
    "raw_mimetype": null
   },
   "outputs": [],
   "source": [
    "#importing modules\n",
    "import numpy as np\n",
    "import matplotlib.pyplot as plt\n",
    "import h5py\n",
    "\n",
    "import pickle\n",
    "import tqdm\n",
    "import time\n",
    "\n",
    "from random import choice"
   ]
  },
  {
   "cell_type": "code",
   "execution_count": 2,
   "metadata": {},
   "outputs": [],
   "source": [
    "# Setting stuff\n",
    "nan= float('nan')\n",
    "plt.close('all')\n",
    "\n",
    "Ken98= (4.5*10**-44)\n",
    "Conversion2Chabrier=1.7 # Also Madau\n",
    "Calzetti12= 2.8*10**-44\n",
    "arrow = u'$\\u2193$' \n",
    "\n",
    "Hal_cent = 6562.8\n",
    "NIIr_cent = 6582.\n",
    "NIIb_cent = 6548.\n",
    "\n",
    "PATH='./'"
   ]
  },
  {
   "cell_type": "markdown",
   "metadata": {},
   "source": [
    "# Getting the fuctions working "
   ]
  },
  {
   "cell_type": "code",
   "execution_count": 3,
   "metadata": {},
   "outputs": [],
   "source": [
    "def gaussian(x, a, b, c):\n",
    "    val = a * np.exp(-(x - b)**2 / (2.*c**2))\n",
    "    return val\n",
    "\n",
    "def save_obj(obj, name ):\n",
    "    with open(PATH + name + '.pkl', 'wb') as f:\n",
    "        pickle.dump(obj, f, pickle.HIGHEST_PROTOCOL)\n",
    "\n",
    "def load_obj(name ):\n",
    "    import pickle\n",
    "    with open(PATH + name + '.pkl', 'rb') as f:\n",
    "        return pickle.load(f, encoding='latin1')\n",
    "    "
   ]
  },
  {
   "cell_type": "code",
   "execution_count": 4,
   "metadata": {},
   "outputs": [],
   "source": [
    "def spec_gen_Halpha():\n",
    "    # generating random properties\n",
    "    \n",
    "    z = np.random.uniform(1.4, 2.5)\n",
    "    while (z > 1.83) and (z < 1.94):\n",
    "        z = np.random.uniform(1.4, 2.5)\n",
    "    \n",
    "    ## 1/2.35 is a conversion between fullwidth half max and the gaussian sigma...\n",
    "    \n",
    "    Nar_sig = np.random.uniform(200,700)/2.35   # Width of the narrow components\n",
    "    Nar_fl = 10**np.random.uniform(-15.3, -12.3) # Flux of narrow Halpha\n",
    "    NII_fl = np.random.uniform(0.1,1)*Nar_fl # Flux of [NII]\n",
    "    \n",
    "    \n",
    "    Cont = np.random.uniform(0.01,0.2)*Nar_fl\n",
    "    # Are we doing Type 1 or 2\n",
    "    Type = choice([0,1])\n",
    "    \n",
    "    # Generating BLR properties\n",
    "    # It goes up to two because why the hell not (bright quasars exist)\n",
    "    if Type==1:\n",
    "        BLR_fl = np.random.uniform(0.1,2)*Nar_fl\n",
    "        BLR_sig = np.random.uniform(4000,8000)/2.35  \n",
    "    else:\n",
    "        BLR_fl = 0\n",
    "        BLR_sig = np.random.uniform(4000,8000)/2.35  \n",
    "        \n",
    "    ###\n",
    "    # Selecting which band it was observed based on redshift\n",
    "    Hw = np.linspace(1.42533, 1.86678, 2048)\n",
    "    Kw = np.linspace(1.92543, 2.49972, 2048)\n",
    "    \n",
    "    if z<1.83:\n",
    "        x=Hw\n",
    "    elif z>1.94:\n",
    "        x=Kw\n",
    "    \n",
    "    Nar_sig_wv = Nar_sig/3e5*(Hal_cent/1e4*(1+z))\n",
    "    BLR_sig_wv = BLR_sig/3e5*(Hal_cent/1e4*(1+z))\n",
    "    \n",
    "    \n",
    "    Nar_comp = gaussian(x, Nar_fl, Hal_cent/1e4*(1+z), Nar_sig_wv) + \\\n",
    "                gaussian(x, NII_fl, NIIr_cent/1e4*(1+z), Nar_sig_wv) + \\\n",
    "                gaussian(x, NII_fl/3, NIIb_cent/1e4*(1+z), Nar_sig_wv)\n",
    "                \n",
    "    BLR_comp = gaussian(x,BLR_fl, Hal_cent/1e4*(1+z), BLR_sig_wv)\n",
    "    \n",
    "    noise_level = np.random.uniform(0.05,0.3)*Nar_fl\n",
    "    # Method to the madness: we assume there was a 3-10sigma detection, which means the nar_fl = (3-20)*noise.\n",
    "    spec = Cont + BLR_comp + Nar_comp + np.random.normal(0,noise_level,2048)\n",
    "                \n",
    "    \n",
    "    #plt.plot(x, spec, drawstyle='steps-mid')\n",
    "    #plt.plot(x, BLR_comp)\n",
    "    #plt.plot(x, Cont*np.ones_like(BLR_comp)+BLR_comp)\n",
    "    \n",
    "    Params = {'z':z}\n",
    "    Params['Nar_fwhm'] = Nar_sig*2.35\n",
    "    Params['BLR_fwhm'] = BLR_sig*2.35\n",
    "    \n",
    "    Params['BLR_fl'] = BLR_fl\n",
    "    Params['Nar_fl'] = Nar_fl\n",
    "    Params['NII_fl'] = NII_fl\n",
    "    \n",
    "    Params['Cont'] = Cont\n",
    "    Params['Type'] = Type\n",
    "    \n",
    "    save = {'wave': x}\n",
    "    save['flux'] = spec\n",
    "    save['Params'] = Params\n",
    "    \n",
    "    \n",
    "    return save"
   ]
  },
  {
   "cell_type": "markdown",
   "metadata": {},
   "source": [
    "## Create a larger sample\n",
    "\n",
    "I will store the data as a simple line in a hdf5 file.\n",
    "\n",
    "\n",
    "Each line will have 2048+2048+TruthParams(8) = 4054 entries per line..."
   ]
  },
  {
   "cell_type": "code",
   "execution_count": 40,
   "metadata": {},
   "outputs": [
    {
     "name": "stderr",
     "output_type": "stream",
     "text": [
      "100%|██████████| 1000/1000 [00:00<00:00, 3275.57it/s]\n"
     ]
    }
   ],
   "source": [
    "N=1000\n",
    "\n",
    "##\n",
    "tosave = np.zeros((N,4104))\n",
    "temparray = np.zeros(4104)\n",
    "\n",
    "for i in tqdm.tqdm(range(N)):\n",
    "    Spec_info = spec_gen_Halpha()\n",
    "    temparray[0:2048] = Spec_info['wave']\n",
    "    temparray[2048:4096] = Spec_info['flux']\n",
    "    temparray[4096] = Spec_info['Params']['z']\n",
    "    temparray[4097] = Spec_info['Params']['Nar_fwhm']\n",
    "    temparray[4098] = Spec_info['Params']['BLR_fwhm']\n",
    "    temparray[4099] = Spec_info['Params']['BLR_fl']\n",
    "    temparray[4100] = Spec_info['Params']['Nar_fl']\n",
    "    temparray[4101] = Spec_info['Params']['NII_fl']\n",
    "    temparray[4102] = Spec_info['Params']['Cont']\n",
    "    temparray[4103] = Spec_info['Params']['Type']\n",
    "    tosave[i] = temparray"
   ]
  },
  {
   "cell_type": "code",
   "execution_count": 44,
   "metadata": {},
   "outputs": [],
   "source": [
    "f = h5py.File('first_sample.hdf5','w')\n",
    "\n",
    "dset = f.create_dataset(\"data\", data=tosave)\n",
    "dset.attrs['title'] = 'First fake dataset'\n",
    "dset.attrs['descr'] = 'Here is where we can leave notes on how we made the data set...'\n",
    "dset.attrs['columns'] = '0-2047: wavenumber, 2048-4095: flux, z, Nar_fwhm, BLR_fwhm, BLR_fl,Nar_fl,NII_fl,Cont,Type'\n",
    "dset.attrs['N'] = N\n",
    "\n",
    "f.close()\n"
   ]
  },
  {
   "cell_type": "code",
   "execution_count": null,
   "metadata": {},
   "outputs": [],
   "source": []
  }
 ],
 "metadata": {
  "kernelspec": {
   "display_name": "Python 3",
   "language": "python",
   "name": "python3"
  },
  "language_info": {
   "codemirror_mode": {
    "name": "ipython",
    "version": 3
   },
   "file_extension": ".py",
   "mimetype": "text/x-python",
   "name": "python",
   "nbconvert_exporter": "python",
   "pygments_lexer": "ipython3",
   "version": "3.7.3"
  }
 },
 "nbformat": 4,
 "nbformat_minor": 4
}
